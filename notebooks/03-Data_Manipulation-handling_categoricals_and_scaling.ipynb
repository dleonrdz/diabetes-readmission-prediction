{
 "cells": [
  {
   "cell_type": "code",
   "execution_count": 1,
   "id": "initial_id",
   "metadata": {
    "collapsed": true,
    "ExecuteTime": {
     "end_time": "2024-03-07T19:22:36.242496Z",
     "start_time": "2024-03-07T19:22:36.068388Z"
    }
   },
   "outputs": [],
   "source": [
    "import pandas as pd\n",
    "import numpy as np\n",
    "import matplotlib.pyplot as plt"
   ]
  },
  {
   "cell_type": "code",
   "execution_count": 2,
   "id": "676f27d4c2e33506",
   "metadata": {
    "ExecuteTime": {
     "end_time": "2024-03-07T19:22:36.588015Z",
     "start_time": "2024-03-07T19:22:36.080047Z"
    }
   },
   "outputs": [
    {
     "data": {
      "text/plain": "   encounter_id  patient_nbr             race  gender      age  \\\n0        149190     55629189        Caucasian  Female  [10-20)   \n1         64410     86047875  AfricanAmerican  Female  [20-30)   \n2        500364     82442376        Caucasian    Male  [30-40)   \n3         16680     42519267        Caucasian    Male  [40-50)   \n4         55842     84259809        Caucasian    Male  [60-70)   \n\n   admission_type_id  discharge_disposition_id  admission_source_id  \\\n0                  1                         1                    7   \n1                  1                         1                    7   \n2                  1                         1                    7   \n3                  1                         1                    7   \n4                  3                         1                    2   \n\n   time_in_hospital medical_specialty  ...  insulin  glyburide-metformin  \\\n0               3.0           Missing  ...       Up                   No   \n1               2.0           Missing  ...       No                   No   \n2               2.0           Missing  ...       Up                   No   \n3               1.0           Missing  ...   Steady                   No   \n4               4.0           Missing  ...   Steady                   No   \n\n   glipizide-metformin  glimepiride-pioglitazone  metformin-rosiglitazone  \\\n0                   No                        No                       No   \n1                   No                        No                       No   \n2                   No                        No                       No   \n3                   No                        No                       No   \n4                   No                        No                       No   \n\n   metformin-pioglitazone change diabetesMed readmitted  readmitted_general  \n0                      No     Ch         Yes        >30                   1  \n1                      No     No         Yes         NO                   0  \n2                      No     Ch         Yes         NO                   0  \n3                      No     Ch         Yes         NO                   0  \n4                      No     Ch         Yes         NO                   0  \n\n[5 rows x 49 columns]",
      "text/html": "<div>\n<style scoped>\n    .dataframe tbody tr th:only-of-type {\n        vertical-align: middle;\n    }\n\n    .dataframe tbody tr th {\n        vertical-align: top;\n    }\n\n    .dataframe thead th {\n        text-align: right;\n    }\n</style>\n<table border=\"1\" class=\"dataframe\">\n  <thead>\n    <tr style=\"text-align: right;\">\n      <th></th>\n      <th>encounter_id</th>\n      <th>patient_nbr</th>\n      <th>race</th>\n      <th>gender</th>\n      <th>age</th>\n      <th>admission_type_id</th>\n      <th>discharge_disposition_id</th>\n      <th>admission_source_id</th>\n      <th>time_in_hospital</th>\n      <th>medical_specialty</th>\n      <th>...</th>\n      <th>insulin</th>\n      <th>glyburide-metformin</th>\n      <th>glipizide-metformin</th>\n      <th>glimepiride-pioglitazone</th>\n      <th>metformin-rosiglitazone</th>\n      <th>metformin-pioglitazone</th>\n      <th>change</th>\n      <th>diabetesMed</th>\n      <th>readmitted</th>\n      <th>readmitted_general</th>\n    </tr>\n  </thead>\n  <tbody>\n    <tr>\n      <th>0</th>\n      <td>149190</td>\n      <td>55629189</td>\n      <td>Caucasian</td>\n      <td>Female</td>\n      <td>[10-20)</td>\n      <td>1</td>\n      <td>1</td>\n      <td>7</td>\n      <td>3.0</td>\n      <td>Missing</td>\n      <td>...</td>\n      <td>Up</td>\n      <td>No</td>\n      <td>No</td>\n      <td>No</td>\n      <td>No</td>\n      <td>No</td>\n      <td>Ch</td>\n      <td>Yes</td>\n      <td>&gt;30</td>\n      <td>1</td>\n    </tr>\n    <tr>\n      <th>1</th>\n      <td>64410</td>\n      <td>86047875</td>\n      <td>AfricanAmerican</td>\n      <td>Female</td>\n      <td>[20-30)</td>\n      <td>1</td>\n      <td>1</td>\n      <td>7</td>\n      <td>2.0</td>\n      <td>Missing</td>\n      <td>...</td>\n      <td>No</td>\n      <td>No</td>\n      <td>No</td>\n      <td>No</td>\n      <td>No</td>\n      <td>No</td>\n      <td>No</td>\n      <td>Yes</td>\n      <td>NO</td>\n      <td>0</td>\n    </tr>\n    <tr>\n      <th>2</th>\n      <td>500364</td>\n      <td>82442376</td>\n      <td>Caucasian</td>\n      <td>Male</td>\n      <td>[30-40)</td>\n      <td>1</td>\n      <td>1</td>\n      <td>7</td>\n      <td>2.0</td>\n      <td>Missing</td>\n      <td>...</td>\n      <td>Up</td>\n      <td>No</td>\n      <td>No</td>\n      <td>No</td>\n      <td>No</td>\n      <td>No</td>\n      <td>Ch</td>\n      <td>Yes</td>\n      <td>NO</td>\n      <td>0</td>\n    </tr>\n    <tr>\n      <th>3</th>\n      <td>16680</td>\n      <td>42519267</td>\n      <td>Caucasian</td>\n      <td>Male</td>\n      <td>[40-50)</td>\n      <td>1</td>\n      <td>1</td>\n      <td>7</td>\n      <td>1.0</td>\n      <td>Missing</td>\n      <td>...</td>\n      <td>Steady</td>\n      <td>No</td>\n      <td>No</td>\n      <td>No</td>\n      <td>No</td>\n      <td>No</td>\n      <td>Ch</td>\n      <td>Yes</td>\n      <td>NO</td>\n      <td>0</td>\n    </tr>\n    <tr>\n      <th>4</th>\n      <td>55842</td>\n      <td>84259809</td>\n      <td>Caucasian</td>\n      <td>Male</td>\n      <td>[60-70)</td>\n      <td>3</td>\n      <td>1</td>\n      <td>2</td>\n      <td>4.0</td>\n      <td>Missing</td>\n      <td>...</td>\n      <td>Steady</td>\n      <td>No</td>\n      <td>No</td>\n      <td>No</td>\n      <td>No</td>\n      <td>No</td>\n      <td>Ch</td>\n      <td>Yes</td>\n      <td>NO</td>\n      <td>0</td>\n    </tr>\n  </tbody>\n</table>\n<p>5 rows × 49 columns</p>\n</div>"
     },
     "execution_count": 2,
     "metadata": {},
     "output_type": "execute_result"
    }
   ],
   "source": [
    "df = pd.read_csv(r'../data/interim/diabetic_readmission_data_interim.csv')\n",
    "df.head()"
   ]
  },
  {
   "cell_type": "markdown",
   "source": [
    "Target variable was encoded ordinally with 0 being not readmitted, 1 being readmitted within the first month and 2 afterwards. After several tries, due to the imbalanced nature of the data, we found the best performing algorithm by training two models: one model   to predict whether the patient will be readmitted or not and the second one is going to predict if the readmission will be before or after the 30 days. For this we use the already created new target for the first model \"readmitted_general\"."
   ],
   "metadata": {
    "collapsed": false
   },
   "id": "1679bcb21c68477b"
  },
  {
   "cell_type": "code",
   "execution_count": 3,
   "id": "c5d5737ad2f9e902",
   "metadata": {
    "ExecuteTime": {
     "end_time": "2024-03-07T19:22:36.596749Z",
     "start_time": "2024-03-07T19:22:36.593788Z"
    }
   },
   "outputs": [],
   "source": [
    "#Target variable\n",
    "encode = {'NO': 0,\n",
    "          '<30': 1,\n",
    "          '>30': 2}\n",
    "\n",
    "df['readmitted'] = df['readmitted'].map(encode)\n",
    "df['readmitted'] = df['readmitted'].astype(int)"
   ]
  },
  {
   "cell_type": "markdown",
   "source": [
    "Features with two distinct values such as diabetesMed and change (basically \"Yes\" and \"No\") were binary encoded: \"Yes\" = 1 and \"No\" = 0"
   ],
   "metadata": {
    "collapsed": false
   },
   "id": "13af500b2a43e75f"
  },
  {
   "cell_type": "code",
   "execution_count": 4,
   "id": "29f5c28b529620f1",
   "metadata": {
    "ExecuteTime": {
     "end_time": "2024-03-07T19:22:36.743287Z",
     "start_time": "2024-03-07T19:22:36.603998Z"
    }
   },
   "outputs": [
    {
     "name": "stderr",
     "output_type": "stream",
     "text": [
      "/var/folders/_1/jzxxkx2s39l5jxsz34sqhj280000gn/T/ipykernel_37253/61034405.py:5: FutureWarning: Downcasting behavior in `replace` is deprecated and will be removed in a future version. To retain the old behavior, explicitly call `result.infer_objects(copy=False)`. To opt-in to the future behavior, set `pd.set_option('future.no_silent_downcasting', True)`\n",
      "  df['diabetesMed'] = df['diabetesMed'].replace(encode)\n",
      "/var/folders/_1/jzxxkx2s39l5jxsz34sqhj280000gn/T/ipykernel_37253/61034405.py:11: FutureWarning: Downcasting behavior in `replace` is deprecated and will be removed in a future version. To retain the old behavior, explicitly call `result.infer_objects(copy=False)`. To opt-in to the future behavior, set `pd.set_option('future.no_silent_downcasting', True)`\n",
      "  df['change'] = df['change'].replace(encode)\n",
      "/var/folders/_1/jzxxkx2s39l5jxsz34sqhj280000gn/T/ipykernel_37253/61034405.py:17: FutureWarning: Downcasting behavior in `replace` is deprecated and will be removed in a future version. To retain the old behavior, explicitly call `result.infer_objects(copy=False)`. To opt-in to the future behavior, set `pd.set_option('future.no_silent_downcasting', True)`\n",
      "  df['gender'] = df['gender'].replace(encode)\n"
     ]
    }
   ],
   "source": [
    "#diabetesMed variable\n",
    "encode = {'No': 0,\n",
    "          'Yes': 1}\n",
    "\n",
    "df['diabetesMed'] = df['diabetesMed'].replace(encode)\n",
    "\n",
    "#change variable\n",
    "encode = {'No': 0,\n",
    "          'Ch': 1}\n",
    "\n",
    "df['change'] = df['change'].replace(encode)\n",
    "\n",
    "#gender variable\n",
    "encode = {'Male': 0,\n",
    "          'Female': 1}\n",
    "\n",
    "df['gender'] = df['gender'].replace(encode)"
   ]
  },
  {
   "cell_type": "markdown",
   "source": [
    "We think that medical_specialty is actually informative for our target variables; nevertheless, by having too many missing values and  values with too low frequency we elected to transform it into a binary one in which 0 means missing and 1 not missing"
   ],
   "metadata": {
    "collapsed": false
   },
   "id": "7449a672ce822d70"
  },
  {
   "cell_type": "code",
   "execution_count": 5,
   "outputs": [
    {
     "data": {
      "text/plain": "medical_specialty\nMissing                             0.492109\nInternalMedicine                    0.148482\nEmergency/Trauma                    0.076712\nFamily/GeneralPractice              0.075638\nCardiology                          0.045984\n                                      ...   \nPerinatology                        0.000011\nNeurophysiology                     0.000011\nPediatrics-InfectiousDiseases       0.000011\nSurgery-PlasticwithinHeadandNeck    0.000011\nPediatrics-AllergyandImmunology     0.000011\nName: proportion, Length: 73, dtype: float64"
     },
     "execution_count": 5,
     "metadata": {},
     "output_type": "execute_result"
    }
   ],
   "source": [
    "df['medical_specialty'].value_counts(normalize=True)"
   ],
   "metadata": {
    "collapsed": false,
    "ExecuteTime": {
     "end_time": "2024-03-07T19:22:36.752516Z",
     "start_time": "2024-03-07T19:22:36.731123Z"
    }
   },
   "id": "786b53164e0180e7"
  },
  {
   "cell_type": "code",
   "execution_count": 6,
   "outputs": [],
   "source": [
    "df['medical_specialty'] = np.where(df['medical_specialty'] == 'Missing',0,1)"
   ],
   "metadata": {
    "collapsed": false,
    "ExecuteTime": {
     "end_time": "2024-03-07T19:22:36.786241Z",
     "start_time": "2024-03-07T19:22:36.745867Z"
    }
   },
   "id": "22289a1e52b884b7"
  },
  {
   "cell_type": "markdown",
   "source": [
    "For diag_1, diag_2 and diag_3 we tried three ways: embeddings with co-ocurrence matrix, the replication of a study on the HbA1c measurement impact in readmissions rate which classifies by types of disease group (https://www.hindawi.com/journals/bmri/2014/781670/tab2/>), and the best-performing one that which utilized TfidVectorizer from scikit-learn, which is commonly applied to encode text given the importance of its words within certain document or dataset. Less common words are weighted higher as they may be more differentiated than the most common ones. The way we used it for the diagnoses was to treat the three columns as a concatenated text and then apply the vectorizer to weight each diagnosis code based on how common it is among all its possible combinations. The result is a vector for each row with the number of unique codes that we have in our data (≈900). Then we applied PCA to these features and we were able to reduce the features to ≈100."
   ],
   "metadata": {
    "collapsed": false
   },
   "id": "93fa294870f9f8b0"
  },
  {
   "cell_type": "code",
   "execution_count": 7,
   "id": "7e912e3fe7293930",
   "metadata": {
    "ExecuteTime": {
     "end_time": "2024-03-07T19:23:19.082648Z",
     "start_time": "2024-03-07T19:22:36.750211Z"
    }
   },
   "outputs": [
    {
     "name": "stdout",
     "output_type": "stream",
     "text": [
      "The number of components where cumulative variance is above 0.75: 104\n"
     ]
    },
    {
     "data": {
      "text/plain": "<Figure size 640x480 with 1 Axes>",
      "image/png": "[encoded data removed]"
     },
     "metadata": {},
     "output_type": "display_data"
    }
   ],
   "source": [
    "from sklearn.feature_extraction.text import TfidfVectorizer\n",
    "from sklearn.decomposition import PCA\n",
    "df['concat_diags'] = df['diag_1'].str.cat(df['diag_2'].str.cat(df['diag_3'], sep = ' '), sep=' ')\n",
    "tfidf_vectorizer = TfidfVectorizer()\n",
    "tfidf_features = tfidf_vectorizer.fit_transform(df['concat_diags'])\n",
    "\n",
    "dense_tfidf_features = tfidf_features.toarray()  # or tfidf_features.todense()\n",
    "pca = PCA()\n",
    "pca.fit(dense_tfidf_features)\n",
    "\n",
    "cumulative_variance = np.cumsum(pca.explained_variance_ratio_)\n",
    "num_components_above_75 = np.argmax(cumulative_variance >= 0.75) + 1\n",
    "plt.plot(range(1, len(cumulative_variance)+1), cumulative_variance)\n",
    "\n",
    "# Highlight the point where cumulative variance exceeds 0.75\n",
    "if num_components_above_75 > 0:\n",
    "    plt.axvline(x=num_components_above_75, color='r', linestyle='--', label=f'Components: {num_components_above_75}, Variance: {cumulative_variance[num_components_above_75-1]:.2f}')\n",
    "    plt.legend()\n",
    "    \n",
    "    \n",
    "print(f\"The number of components where cumulative variance is above 0.75: {num_components_above_75}\")\n",
    "plt.xlabel('Number of Components')\n",
    "plt.ylabel('Cumulative Explained Variance')\n",
    "plt.title('PCA Cumulative Explained Variance')\n",
    "\n",
    "plt.show()\n"
   ]
  },
  {
   "cell_type": "code",
   "execution_count": 8,
   "id": "4123eb20b5458bc",
   "metadata": {
    "ExecuteTime": {
     "end_time": "2024-03-07T19:23:32.737798Z",
     "start_time": "2024-03-07T19:23:19.068796Z"
    }
   },
   "outputs": [
    {
     "data": {
      "text/plain": "   encounter_id  patient_nbr             race  gender      age  \\\n0        149190     55629189        Caucasian       1  [10-20)   \n1         64410     86047875  AfricanAmerican       1  [20-30)   \n2        500364     82442376        Caucasian       0  [30-40)   \n3         16680     42519267        Caucasian       0  [40-50)   \n4         55842     84259809        Caucasian       0  [60-70)   \n\n   admission_type_id  discharge_disposition_id  admission_source_id  \\\n0                  1                         1                    7   \n1                  1                         1                    7   \n2                  1                         1                    7   \n3                  1                         1                    7   \n4                  3                         1                    2   \n\n   time_in_hospital  medical_specialty  ...  diag_pca_95  diag_pca_96  \\\n0               3.0                  0  ...     0.001611    -0.002641   \n1               2.0                  0  ...    -0.036483    -0.029741   \n2               2.0                  0  ...     0.002229    -0.005320   \n3               1.0                  0  ...    -0.002626    -0.010034   \n4               4.0                  0  ...     0.001874     0.002255   \n\n   diag_pca_97  diag_pca_98  diag_pca_99  diag_pca_100  diag_pca_101  \\\n0     0.000131     0.019005     0.000311      0.001097     -0.015644   \n1    -0.029267    -0.158314    -0.029691     -0.007657      0.063141   \n2     0.002707     0.007985    -0.008404      0.001512     -0.007373   \n3     0.000944     0.002959     0.027458      0.012830     -0.011225   \n4    -0.002879    -0.003782     0.002977     -0.012647      0.007975   \n\n  diag_pca_102 diag_pca_103 diag_pca_104  \n0    -0.006504     0.013285    -0.005864  \n1     0.042498    -0.098767    -0.075740  \n2    -0.006232     0.012768    -0.010828  \n3     0.000144    -0.018209    -0.001851  \n4     0.003687     0.003335    -0.002529  \n\n[5 rows x 150 columns]",
      "text/html": "<div>\n<style scoped>\n    .dataframe tbody tr th:only-of-type {\n        vertical-align: middle;\n    }\n\n    .dataframe tbody tr th {\n        vertical-align: top;\n    }\n\n    .dataframe thead th {\n        text-align: right;\n    }\n</style>\n<table border=\"1\" class=\"dataframe\">\n  <thead>\n    <tr style=\"text-align: right;\">\n      <th></th>\n      <th>encounter_id</th>\n      <th>patient_nbr</th>\n      <th>race</th>\n      <th>gender</th>\n      <th>age</th>\n      <th>admission_type_id</th>\n      <th>discharge_disposition_id</th>\n      <th>admission_source_id</th>\n      <th>time_in_hospital</th>\n      <th>medical_specialty</th>\n      <th>...</th>\n      <th>diag_pca_95</th>\n      <th>diag_pca_96</th>\n      <th>diag_pca_97</th>\n      <th>diag_pca_98</th>\n      <th>diag_pca_99</th>\n      <th>diag_pca_100</th>\n      <th>diag_pca_101</th>\n      <th>diag_pca_102</th>\n      <th>diag_pca_103</th>\n      <th>diag_pca_104</th>\n    </tr>\n  </thead>\n  <tbody>\n    <tr>\n      <th>0</th>\n      <td>149190</td>\n      <td>55629189</td>\n      <td>Caucasian</td>\n      <td>1</td>\n      <td>[10-20)</td>\n      <td>1</td>\n      <td>1</td>\n      <td>7</td>\n      <td>3.0</td>\n      <td>0</td>\n      <td>...</td>\n      <td>0.001611</td>\n      <td>-0.002641</td>\n      <td>0.000131</td>\n      <td>0.019005</td>\n      <td>0.000311</td>\n      <td>0.001097</td>\n      <td>-0.015644</td>\n      <td>-0.006504</td>\n      <td>0.013285</td>\n      <td>-0.005864</td>\n    </tr>\n    <tr>\n      <th>1</th>\n      <td>64410</td>\n      <td>86047875</td>\n      <td>AfricanAmerican</td>\n      <td>1</td>\n      <td>[20-30)</td>\n      <td>1</td>\n      <td>1</td>\n      <td>7</td>\n      <td>2.0</td>\n      <td>0</td>\n      <td>...</td>\n      <td>-0.036483</td>\n      <td>-0.029741</td>\n      <td>-0.029267</td>\n      <td>-0.158314</td>\n      <td>-0.029691</td>\n      <td>-0.007657</td>\n      <td>0.063141</td>\n      <td>0.042498</td>\n      <td>-0.098767</td>\n      <td>-0.075740</td>\n    </tr>\n    <tr>\n      <th>2</th>\n      <td>500364</td>\n      <td>82442376</td>\n      <td>Caucasian</td>\n      <td>0</td>\n      <td>[30-40)</td>\n      <td>1</td>\n      <td>1</td>\n      <td>7</td>\n      <td>2.0</td>\n      <td>0</td>\n      <td>...</td>\n      <td>0.002229</td>\n      <td>-0.005320</td>\n      <td>0.002707</td>\n      <td>0.007985</td>\n      <td>-0.008404</td>\n      <td>0.001512</td>\n      <td>-0.007373</td>\n      <td>-0.006232</td>\n      <td>0.012768</td>\n      <td>-0.010828</td>\n    </tr>\n    <tr>\n      <th>3</th>\n      <td>16680</td>\n      <td>42519267</td>\n      <td>Caucasian</td>\n      <td>0</td>\n      <td>[40-50)</td>\n      <td>1</td>\n      <td>1</td>\n      <td>7</td>\n      <td>1.0</td>\n      <td>0</td>\n      <td>...</td>\n      <td>-0.002626</td>\n      <td>-0.010034</td>\n      <td>0.000944</td>\n      <td>0.002959</td>\n      <td>0.027458</td>\n      <td>0.012830</td>\n      <td>-0.011225</td>\n      <td>0.000144</td>\n      <td>-0.018209</td>\n      <td>-0.001851</td>\n    </tr>\n    <tr>\n      <th>4</th>\n      <td>55842</td>\n      <td>84259809</td>\n      <td>Caucasian</td>\n      <td>0</td>\n      <td>[60-70)</td>\n      <td>3</td>\n      <td>1</td>\n      <td>2</td>\n      <td>4.0</td>\n      <td>0</td>\n      <td>...</td>\n      <td>0.001874</td>\n      <td>0.002255</td>\n      <td>-0.002879</td>\n      <td>-0.003782</td>\n      <td>0.002977</td>\n      <td>-0.012647</td>\n      <td>0.007975</td>\n      <td>0.003687</td>\n      <td>0.003335</td>\n      <td>-0.002529</td>\n    </tr>\n  </tbody>\n</table>\n<p>5 rows × 150 columns</p>\n</div>"
     },
     "execution_count": 8,
     "metadata": {},
     "output_type": "execute_result"
    }
   ],
   "source": [
    "pca = PCA(n_components=num_components_above_75)\n",
    "embeddings = pca.fit_transform(dense_tfidf_features)\n",
    "pca_columns = [f'diag_pca_{i+1}' for i in range(embeddings.shape[1])]\n",
    "\n",
    "pca_df = pd.DataFrame(embeddings, columns=pca_columns)\n",
    "df = pd.concat([df.reset_index(drop=True), pca_df], axis=1)\n",
    "df.drop(['diag_1',\n",
    "         'diag_2',\n",
    "         'diag_3',\n",
    "         'concat_diags'], axis=1, inplace=True)\n",
    "\n",
    "df.head()"
   ]
  },
  {
   "cell_type": "markdown",
   "source": [
    "age feature, as it has a natural logical order will be encoded using ordinal encoder"
   ],
   "metadata": {
    "collapsed": false
   },
   "id": "44b5597e724a2cb9"
  },
  {
   "cell_type": "code",
   "execution_count": 9,
   "outputs": [
    {
     "data": {
      "text/plain": "array(['[0-10)', '[10-20)', '[20-30)', '[30-40)', '[40-50)', '[50-60)',\n       '[60-70)', '[70-80)', '[80-90)', '[90-100)'], dtype=object)"
     },
     "execution_count": 9,
     "metadata": {},
     "output_type": "execute_result"
    }
   ],
   "source": [
    "df.sort_values(by=['age'])['age'].unique()"
   ],
   "metadata": {
    "collapsed": false,
    "ExecuteTime": {
     "end_time": "2024-03-07T19:23:33.051845Z",
     "start_time": "2024-03-07T19:23:32.727531Z"
    }
   },
   "id": "2055b30f8d10ea14"
  },
  {
   "cell_type": "code",
   "execution_count": 10,
   "id": "f66e92dcd8ca4e6d",
   "metadata": {
    "ExecuteTime": {
     "end_time": "2024-03-07T19:23:33.053993Z",
     "start_time": "2024-03-07T19:23:32.859718Z"
    }
   },
   "outputs": [],
   "source": [
    "from sklearn.preprocessing import OrdinalEncoder\n",
    "age_orders = [sorted(df['age'].unique())]\n",
    "ordinal_encoder = OrdinalEncoder(categories=age_orders)\n",
    "df['age'] = ordinal_encoder.fit_transform(df[['age']])"
   ]
  },
  {
   "cell_type": "markdown",
   "source": [
    "Drug features (from metformin to metformin-pioglitazone) are more complex because each of them could take 4 possible values (up, down, steady and No). Additionally, there are drugs that are less common in patients and that we do not have examples of all possible values among this \"rare\" drug usage. These cases are clearer when we see the values they take, and we recognize an imbalance towards non-usage. This feature will only be noisy and won´t add information for the model, thus we discard them"
   ],
   "metadata": {
    "collapsed": false
   },
   "id": "ac359220942c78fd"
  },
  {
   "cell_type": "code",
   "execution_count": 11,
   "outputs": [
    {
     "name": "stdout",
     "output_type": "stream",
     "text": [
      "acetohexamide\n",
      "No    1.0\n",
      "Name: proportion, dtype: float64\n",
      "tolbutamide\n",
      "No        0.999785\n",
      "Steady    0.000215\n",
      "Name: proportion, dtype: float64\n",
      "troglitazone\n",
      "No        0.999968\n",
      "Steady    0.000032\n",
      "Name: proportion, dtype: float64\n",
      "tolazamide\n",
      "No        0.999592\n",
      "Steady    0.000398\n",
      "Up        0.000011\n",
      "Name: proportion, dtype: float64\n",
      "examide\n",
      "No    1.0\n",
      "Name: proportion, dtype: float64\n",
      "citoglipton\n",
      "No    1.0\n",
      "Name: proportion, dtype: float64\n",
      "glipizide-metformin\n",
      "No        0.99986\n",
      "Steady    0.00014\n",
      "Name: proportion, dtype: float64\n",
      "glimepiride-pioglitazone\n",
      "No        0.999989\n",
      "Steady    0.000011\n",
      "Name: proportion, dtype: float64\n",
      "metformin-rosiglitazone\n",
      "No        0.999989\n",
      "Steady    0.000011\n",
      "Name: proportion, dtype: float64\n",
      "metformin-pioglitazone\n",
      "No        0.999989\n",
      "Steady    0.000011\n",
      "Name: proportion, dtype: float64\n"
     ]
    }
   ],
   "source": [
    "drugs = ['metformin', 'repaglinide', 'nateglinide',\n",
    "       'chlorpropamide', 'glimepiride', 'acetohexamide', 'glipizide',\n",
    "       'glyburide', 'tolbutamide', 'pioglitazone', 'rosiglitazone', 'acarbose',\n",
    "       'miglitol', 'troglitazone', 'tolazamide', 'examide', 'citoglipton',\n",
    "       'insulin', 'glyburide-metformin', 'glipizide-metformin',\n",
    "       'glimepiride-pioglitazone', 'metformin-rosiglitazone',\n",
    "       'metformin-pioglitazone']\n",
    "drugs_val_count = dict()\n",
    "for i in drugs:\n",
    "    n = df[i].nunique()\n",
    "    drugs_val_count[i] = n\n",
    "    \n",
    "drop_drugs=[]\n",
    "for key, value in drugs_val_count.items():\n",
    "    if value < 4:\n",
    "        drop_drugs.append(key)\n",
    "        print(df[key].value_counts(normalize=True))\n",
    "\n",
    "df.drop(drop_drugs, axis=1,inplace=True)"
   ],
   "metadata": {
    "collapsed": false,
    "ExecuteTime": {
     "end_time": "2024-03-07T19:23:33.132078Z",
     "start_time": "2024-03-07T19:23:32.902441Z"
    }
   },
   "id": "dd800de61a93b73d"
  },
  {
   "cell_type": "markdown",
   "source": [
    "We have already encoded age, gender, medical_specialty, change and diabetesMed. admission_type_id, discharge_disposition_id and admission_source_id are already encoded so they do not need further manipulation. The encoding strategy for the rest of features will be based on the number of values each feature can take and of course the type of feature it is"
   ],
   "metadata": {
    "collapsed": false
   },
   "id": "afb54f8528ca3e77"
  },
  {
   "cell_type": "code",
   "execution_count": 12,
   "outputs": [
    {
     "name": "stdout",
     "output_type": "stream",
     "text": [
      "Features pending to encode: Index(['race', 'max_glu_serum', 'A1Cresult', 'metformin', 'repaglinide',\n",
      "       'nateglinide', 'chlorpropamide', 'glimepiride', 'glipizide',\n",
      "       'glyburide', 'pioglitazone', 'rosiglitazone', 'acarbose', 'miglitol',\n",
      "       'insulin', 'glyburide-metformin'],\n",
      "      dtype='object')\n"
     ]
    }
   ],
   "source": [
    "df.drop(['encounter_id', 'patient_nbr'], axis = 1, inplace=True)\n",
    "\n",
    "num_columns = ['time_in_hospital', \n",
    "               'num_lab_procedures', \n",
    "               'num_procedures',\n",
    "               'num_medications', \n",
    "               'number_outpatient', \n",
    "               'number_emergency',\n",
    "               'number_inpatient', \n",
    "               'number_diagnoses']\n",
    "diag_pca_columns = [col for col in df.columns if col.startswith('diag_pca')]\n",
    "num_columns.extend(diag_pca_columns)\n",
    "cat_columns = df.drop(num_columns,axis=1).columns\n",
    "cat_columns_to_encode=df[cat_columns].drop(['age',\n",
    "                                            'gender',\n",
    "                                            'change',\n",
    "                                            'medical_specialty',\n",
    "                                            'diabetesMed',\n",
    "                                            'admission_type_id',\n",
    "                                            'discharge_disposition_id',\n",
    "                                            'admission_source_id',\n",
    "                                            'readmitted',\n",
    "                                            'readmitted_general'], axis=1).columns\n",
    "\n",
    "print(f'Features pending to encode: {cat_columns_to_encode}')"
   ],
   "metadata": {
    "collapsed": false,
    "ExecuteTime": {
     "end_time": "2024-03-07T19:23:33.216771Z",
     "start_time": "2024-03-07T19:23:33.102782Z"
    }
   },
   "id": "56ea855d2dd29801"
  },
  {
   "cell_type": "markdown",
   "id": "5abb78008519dc1a",
   "metadata": {},
   "source": [
    "We define the threshold of 4 maximum possible values in each feature to be one-hot encoded, if the number of labels is greater then we use impact encoding."
   ]
  },
  {
   "cell_type": "code",
   "execution_count": 13,
   "outputs": [
    {
     "name": "stdout",
     "output_type": "stream",
     "text": [
      "['max_glu_serum', 'A1Cresult', 'metformin', 'repaglinide', 'nateglinide', 'chlorpropamide', 'glimepiride', 'glipizide', 'glyburide', 'pioglitazone', 'rosiglitazone', 'acarbose', 'miglitol', 'insulin', 'glyburide-metformin']\n",
      "['race']\n"
     ]
    }
   ],
   "source": [
    "one_hot_columns=[]\n",
    "impact_encode_columns=[]\n",
    "for i in cat_columns_to_encode:\n",
    "    n = df[i].nunique()\n",
    "    if n <=4:\n",
    "        one_hot_columns.append(i)\n",
    "    else:\n",
    "        impact_encode_columns.append(i)\n",
    "        \n",
    "print(one_hot_columns)\n",
    "print(impact_encode_columns)"
   ],
   "metadata": {
    "collapsed": false,
    "ExecuteTime": {
     "end_time": "2024-03-07T19:23:33.317512Z",
     "start_time": "2024-03-07T19:23:33.205258Z"
    }
   },
   "id": "452508251fca8fe0"
  },
  {
   "cell_type": "code",
   "execution_count": 14,
   "outputs": [
    {
     "data": {
      "text/plain": "              race  gender  age  admission_type_id  discharge_disposition_id  \\\n0        Caucasian       1  1.0                  1                         1   \n1  AfricanAmerican       1  2.0                  1                         1   \n2        Caucasian       0  3.0                  1                         1   \n3        Caucasian       0  4.0                  1                         1   \n4        Caucasian       0  6.0                  3                         1   \n\n   admission_source_id  time_in_hospital  medical_specialty  \\\n0                    7               3.0                  0   \n1                    7               2.0                  0   \n2                    7               2.0                  0   \n3                    7               1.0                  0   \n4                    2               4.0                  0   \n\n   num_lab_procedures  num_procedures  ...  miglitol_Steady  miglitol_Up  \\\n0                59.0             0.0  ...            False        False   \n1                11.0             5.0  ...            False        False   \n2                44.0             1.0  ...            False        False   \n3                51.0             0.0  ...            False        False   \n4                70.0             1.0  ...            False        False   \n\n   insulin_Down  insulin_No  insulin_Steady  insulin_Up  \\\n0         False       False           False        True   \n1         False        True           False       False   \n2         False       False           False        True   \n3         False       False            True       False   \n4         False       False            True       False   \n\n   glyburide-metformin_Down  glyburide-metformin_No  \\\n0                     False                    True   \n1                     False                    True   \n2                     False                    True   \n3                     False                    True   \n4                     False                    True   \n\n   glyburide-metformin_Steady  glyburide-metformin_Up  \n0                       False                   False  \n1                       False                   False  \n2                       False                   False  \n3                       False                   False  \n4                       False                   False  \n\n[5 rows x 183 columns]",
      "text/html": "<div>\n<style scoped>\n    .dataframe tbody tr th:only-of-type {\n        vertical-align: middle;\n    }\n\n    .dataframe tbody tr th {\n        vertical-align: top;\n    }\n\n    .dataframe thead th {\n        text-align: right;\n    }\n</style>\n<table border=\"1\" class=\"dataframe\">\n  <thead>\n    <tr style=\"text-align: right;\">\n      <th></th>\n      <th>race</th>\n      <th>gender</th>\n      <th>age</th>\n      <th>admission_type_id</th>\n      <th>discharge_disposition_id</th>\n      <th>admission_source_id</th>\n      <th>time_in_hospital</th>\n      <th>medical_specialty</th>\n      <th>num_lab_procedures</th>\n      <th>num_procedures</th>\n      <th>...</th>\n      <th>miglitol_Steady</th>\n      <th>miglitol_Up</th>\n      <th>insulin_Down</th>\n      <th>insulin_No</th>\n      <th>insulin_Steady</th>\n      <th>insulin_Up</th>\n      <th>glyburide-metformin_Down</th>\n      <th>glyburide-metformin_No</th>\n      <th>glyburide-metformin_Steady</th>\n      <th>glyburide-metformin_Up</th>\n    </tr>\n  </thead>\n  <tbody>\n    <tr>\n      <th>0</th>\n      <td>Caucasian</td>\n      <td>1</td>\n      <td>1.0</td>\n      <td>1</td>\n      <td>1</td>\n      <td>7</td>\n      <td>3.0</td>\n      <td>0</td>\n      <td>59.0</td>\n      <td>0.0</td>\n      <td>...</td>\n      <td>False</td>\n      <td>False</td>\n      <td>False</td>\n      <td>False</td>\n      <td>False</td>\n      <td>True</td>\n      <td>False</td>\n      <td>True</td>\n      <td>False</td>\n      <td>False</td>\n    </tr>\n    <tr>\n      <th>1</th>\n      <td>AfricanAmerican</td>\n      <td>1</td>\n      <td>2.0</td>\n      <td>1</td>\n      <td>1</td>\n      <td>7</td>\n      <td>2.0</td>\n      <td>0</td>\n      <td>11.0</td>\n      <td>5.0</td>\n      <td>...</td>\n      <td>False</td>\n      <td>False</td>\n      <td>False</td>\n      <td>True</td>\n      <td>False</td>\n      <td>False</td>\n      <td>False</td>\n      <td>True</td>\n      <td>False</td>\n      <td>False</td>\n    </tr>\n    <tr>\n      <th>2</th>\n      <td>Caucasian</td>\n      <td>0</td>\n      <td>3.0</td>\n      <td>1</td>\n      <td>1</td>\n      <td>7</td>\n      <td>2.0</td>\n      <td>0</td>\n      <td>44.0</td>\n      <td>1.0</td>\n      <td>...</td>\n      <td>False</td>\n      <td>False</td>\n      <td>False</td>\n      <td>False</td>\n      <td>False</td>\n      <td>True</td>\n      <td>False</td>\n      <td>True</td>\n      <td>False</td>\n      <td>False</td>\n    </tr>\n    <tr>\n      <th>3</th>\n      <td>Caucasian</td>\n      <td>0</td>\n      <td>4.0</td>\n      <td>1</td>\n      <td>1</td>\n      <td>7</td>\n      <td>1.0</td>\n      <td>0</td>\n      <td>51.0</td>\n      <td>0.0</td>\n      <td>...</td>\n      <td>False</td>\n      <td>False</td>\n      <td>False</td>\n      <td>False</td>\n      <td>True</td>\n      <td>False</td>\n      <td>False</td>\n      <td>True</td>\n      <td>False</td>\n      <td>False</td>\n    </tr>\n    <tr>\n      <th>4</th>\n      <td>Caucasian</td>\n      <td>0</td>\n      <td>6.0</td>\n      <td>3</td>\n      <td>1</td>\n      <td>2</td>\n      <td>4.0</td>\n      <td>0</td>\n      <td>70.0</td>\n      <td>1.0</td>\n      <td>...</td>\n      <td>False</td>\n      <td>False</td>\n      <td>False</td>\n      <td>False</td>\n      <td>True</td>\n      <td>False</td>\n      <td>False</td>\n      <td>True</td>\n      <td>False</td>\n      <td>False</td>\n    </tr>\n  </tbody>\n</table>\n<p>5 rows × 183 columns</p>\n</div>"
     },
     "execution_count": 14,
     "metadata": {},
     "output_type": "execute_result"
    }
   ],
   "source": [
    "#One hot encoding\n",
    "df = pd.get_dummies(df, columns=one_hot_columns)\n",
    "df.head()"
   ],
   "metadata": {
    "collapsed": false,
    "ExecuteTime": {
     "end_time": "2024-03-07T19:23:33.506503Z",
     "start_time": "2024-03-07T19:23:33.279662Z"
    }
   },
   "id": "94a5fc2209a3e3a9"
  },
  {
   "cell_type": "markdown",
   "source": [
    "Train/test split must be done before applying impact encoding as the values that will be mapped to the categorical features can only be computed with training labels. We also have to separate the data that will be used for the readmission type model (<30 or >30) as the features depend on the target and this \"submodel\" target is different from the general one (readmission or no readmission)."
   ],
   "metadata": {
    "collapsed": false
   },
   "id": "fe1f01ed938b0bc6"
  },
  {
   "cell_type": "code",
   "execution_count": 15,
   "outputs": [],
   "source": [
    "encode = {2: 0,\n",
    "          1: 1}\n",
    "df['readmitted_type'] = df['readmitted'].map(encode)\n",
    "df['readmitted_type'] = df['readmitted_type'].astype('Int64')"
   ],
   "metadata": {
    "collapsed": false,
    "ExecuteTime": {
     "end_time": "2024-03-07T19:23:33.558942Z",
     "start_time": "2024-03-07T19:23:33.504064Z"
    }
   },
   "id": "29aca1dcb56be112"
  },
  {
   "cell_type": "markdown",
   "id": "78e98566fe834021",
   "metadata": {},
   "source": [
    "**Train/test split**</br>\n",
    "\n",
    "The selected training size is 85% vs 15% for testing. The test set will be only used for **final predictions**, i.e. the final predicted label (3 classess). Additional splits are performed within the training set for the two individual models."
   ]
  },
  {
   "cell_type": "code",
   "execution_count": 16,
   "id": "ae92bb856a7f6047",
   "metadata": {
    "ExecuteTime": {
     "end_time": "2024-03-07T19:23:33.691788Z",
     "start_time": "2024-03-07T19:23:33.532820Z"
    }
   },
   "outputs": [
    {
     "name": "stdout",
     "output_type": "stream",
     "text": [
      "Overall train size = 79113\n",
      "Overall test size = 13962\n",
      "Train size for  Readmission vs No Readmission model = 71201\n",
      "Test size for Readmission vs No Readmission model = 7912\n",
      "Train size for Type of Readmission model = 29378\n",
      "Test size for Type of Readmission model = 7345\n"
     ]
    }
   ],
   "source": [
    "from sklearn.model_selection import train_test_split\n",
    "train, test = train_test_split(df.copy(), train_size = 0.85, random_state=7)\n",
    "train_model1, test_model1 = train_test_split(train, train_size = 0.9, random_state=7)\n",
    "train_readmission = train[(train['readmitted_general'] == 1)]\n",
    "train_model2, test_model2 = train_test_split(train_readmission, train_size = 0.8, random_state=7)\n",
    "print(f'Overall train size = {train.shape[0]}')\n",
    "print(f'Overall test size = {test.shape[0]}')\n",
    "print(f'Train size for  Readmission vs No Readmission model = {train_model1.shape[0]}')\n",
    "print(f'Test size for Readmission vs No Readmission model = {test_model1.shape[0]}')\n",
    "print(f'Train size for Type of Readmission model = {train_model2.shape[0]}')\n",
    "print(f'Test size for Type of Readmission model = {test_model2.shape[0]}')"
   ]
  },
  {
   "cell_type": "code",
   "execution_count": 17,
   "outputs": [],
   "source": [
    "test.to_csv(r'../data/processed/final_test_set.csv', index=False)\n",
    "train_model1.to_csv(r'../data/interim/model1_train_set_wo_impact_encoding.csv', index=False)\n",
    "train_model2.to_csv(r'../data/interim/model2_train_set_wo_impact_encoding.csv', index=False)"
   ],
   "metadata": {
    "collapsed": false,
    "ExecuteTime": {
     "end_time": "2024-03-07T19:23:57.078845Z",
     "start_time": "2024-03-07T19:23:33.669226Z"
    }
   },
   "id": "95fa912350069bd4"
  },
  {
   "cell_type": "code",
   "execution_count": 18,
   "outputs": [],
   "source": [
    "import sys\n",
    "import os\n",
    "\n",
    "module_path = os.path.abspath(os.path.join(os.getcwd(), '..', 'data'))\n",
    "\n",
    "if module_path not in sys.path:\n",
    "    sys.path.append(module_path)\n",
    "\n",
    "from data_processing_pipeline import impact_encoding_model1, impact_encoding_model2\n",
    "        \n",
    "for dframe in [train_model1, test_model1]:\n",
    "    impact_encoding_model1(dframe)\n",
    "    \n",
    "for dframe in [train_model2, test_model2]:\n",
    "    impact_encoding_model1(dframe)"
   ],
   "metadata": {
    "collapsed": false,
    "ExecuteTime": {
     "end_time": "2024-03-07T19:24:00.587307Z",
     "start_time": "2024-03-07T19:23:57.082079Z"
    }
   },
   "id": "31c6311697d514dd"
  },
  {
   "cell_type": "code",
   "execution_count": 19,
   "outputs": [],
   "source": [
    "train_model1.to_csv(r'../data/processed/model1_train_set.csv', index=False)\n",
    "train_model2.to_csv(r'../data/processed/model2_train_set.csv', index=False)\n",
    "test_model1.to_csv(r'../data/processed/model1_test_set.csv', index=False)\n",
    "test_model2.to_csv(r'../data/processed/model2_test_set.csv', index=False)"
   ],
   "metadata": {
    "collapsed": false,
    "ExecuteTime": {
     "end_time": "2024-03-07T19:24:23.831058Z",
     "start_time": "2024-03-07T19:24:00.591164Z"
    }
   },
   "id": "c6221038161b416b"
  },
  {
   "cell_type": "markdown",
   "source": [
    "## Feature Scaling\n",
    "Standard scaler was done for both models datasets"
   ],
   "metadata": {
    "collapsed": false
   },
   "id": "7ed37135c92de4cd"
  },
  {
   "cell_type": "code",
   "execution_count": 20,
   "outputs": [],
   "source": [
    "from data_processing_pipeline import scaler1, scaler2\n",
    "\n",
    "#We drop the readmitted columns that have nothing to do with each model\n",
    "train_model1.drop(['readmitted','readmitted_type'], axis=1,inplace=True)\n",
    "test_model1.drop(['readmitted','readmitted_type'], axis=1,inplace=True)\n",
    "train_model2.drop(['readmitted','readmitted_general'], axis=1,inplace=True)\n",
    "test_model2.drop(['readmitted','readmitted_general'], axis=1,inplace=True)\n",
    "\n",
    "# Target variables are not scaled\n",
    "no_scale_model1 = ['readmitted_general']\n",
    "no_scale_model2 = ['readmitted_type']\n",
    "\n",
    "#Defining feature columns\n",
    "features_model1 = train_model1.drop(no_scale_model1, axis=1).columns\n",
    "features_model2 = train_model2.drop(no_scale_model2, axis=1).columns\n",
    "\n",
    "#Applying scalers\n",
    "train_model1_scaled = scaler1.transform(train_model1[features_model1])\n",
    "test_model1_scaled = scaler1.transform(test_model1[features_model1])\n",
    "train_model2_scaled = scaler2.transform(train_model2[features_model2])\n",
    "test_model2_scaled = scaler2.transform(test_model2[features_model2])\n",
    "\n",
    "#Returning to dfs\n",
    "train_model1_scaled = pd.DataFrame(train_model1_scaled, columns=features_model1)\n",
    "test_model1_scaled = pd.DataFrame(test_model1_scaled, columns=features_model1)\n",
    "train_model2_scaled = pd.DataFrame(train_model2_scaled, columns=features_model2)\n",
    "test_model2_scaled = pd.DataFrame(test_model2_scaled, columns=features_model2)\n",
    "\n",
    "# Assign the values from the original DataFrames targets\n",
    "# And explicitly set the data type to match the original DataFrames\n",
    "\n",
    "for col in no_scale_model1:\n",
    "    train_model1_scaled[col] = train_model1[col].values.astype(train_model1[col].dtype)\n",
    "    test_model1_scaled[col] = test_model1[col].values.astype(test_model1[col].dtype)\n",
    "    \n",
    "for col in no_scale_model2:\n",
    "    train_model2_scaled[col] = train_model2[col].values.astype(train_model2[col].dtype)\n",
    "    test_model2_scaled[col] = test_model2[col].values.astype(test_model2[col].dtype)"
   ],
   "metadata": {
    "collapsed": false,
    "ExecuteTime": {
     "end_time": "2024-03-07T19:24:24.803664Z",
     "start_time": "2024-03-07T19:24:23.840578Z"
    }
   },
   "id": "f0379d6eb778c5c5"
  },
  {
   "cell_type": "code",
   "execution_count": 21,
   "outputs": [],
   "source": [
    "train_model1_scaled.to_csv(r'../data/processed/model1_train_set_scaled.csv',index=False)\n",
    "train_model2_scaled.to_csv(r'../data/processed/model2_train_set_scaled.csv',index=False)\n",
    "test_model1_scaled.to_csv(r'../data/processed/model1_test_set_scaled.csv',index=False)\n",
    "test_model2_scaled.to_csv(r'../data/processed/model2_test_set_scaled.csv',index=False)"
   ],
   "metadata": {
    "collapsed": false,
    "ExecuteTime": {
     "end_time": "2024-03-07T19:24:58.021613Z",
     "start_time": "2024-03-07T19:24:24.806678Z"
    }
   },
   "id": "420a149a6a888cf1"
  }
 ],
 "metadata": {
  "kernelspec": {
   "display_name": "Python 3 (ipykernel)",
   "language": "python",
   "name": "python3"
  },
  "language_info": {
   "codemirror_mode": {
    "name": "ipython",
    "version": 3
   },
   "file_extension": ".py",
   "mimetype": "text/x-python",
   "name": "python",
   "nbconvert_exporter": "python",
   "pygments_lexer": "ipython3",
   "version": "3.11.4"
  }
 },
 "nbformat": 4,
 "nbformat_minor": 5
}
